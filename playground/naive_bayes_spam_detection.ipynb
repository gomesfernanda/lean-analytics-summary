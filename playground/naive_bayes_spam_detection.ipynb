{
 "cells": [
  {
   "cell_type": "markdown",
   "metadata": {},
   "source": [
    "# Naive Bayes for Spam Detection\n",
    "\n",
    "We will use the SMS Spam dataset available on [data.world](https://data.world/lylepratt/sms-spam) for SMS spam detection.\n",
    "\n",
    "We will preprocess our dataset and prepare for the machine learning algorithms:\n",
    "\n",
    "1. get the text file and treat it: the resulting file is a list of tuples; the tuples are composed by (message, is_spam), and the length of the list is the number of messages.\n",
    "2. extract the messages and the targets (is_spam)\n",
    "3. build a bag of words using CountVectorizer\n",
    "4. separate the dataset into training and test set"
   ]
  },
  {
   "cell_type": "code",
   "execution_count": 7,
   "metadata": {},
   "outputs": [],
   "source": [
    "from sklearn.naive_bayes import MultinomialNB, BernoulliNB\n",
    "from sklearn.feature_extraction.text import CountVectorizer\n",
    "from sklearn.model_selection import train_test_split\n",
    "from sklearn.metrics import precision_score, recall_score, accuracy_score\n",
    "\n",
    "\n",
    "def get_data_sms(filename):\n",
    "    data_sms = []\n",
    "    with open(filename, 'r', encoding='utf-8') as file:\n",
    "        for line in file:\n",
    "            is_spam = \"ham\" not in line\n",
    "            if is_spam == True:\n",
    "                line = line.replace(\"spam\t\",\"\")\n",
    "            else:\n",
    "                line = line.replace(\"ham\t\", \"\")\n",
    "            data_sms.append((line.rstrip(), is_spam))\n",
    "    return data_sms\n",
    "\n",
    "file = \"SMSSpamCollection.txt\"\n",
    "data_sms = get_data_sms(file)\n",
    "\n",
    "target = []\n",
    "features = []\n",
    "\n",
    "for i in range(len(data_sms)):\n",
    "    features.append(data_sms[i][0])\n",
    "    target.append(data_sms[i][1])\n",
    "\n",
    "vectorizer = CountVectorizer()\n",
    "X = vectorizer.fit_transform(features)\n",
    "\n",
    "X_train, X_test, y_train, y_test = train_test_split(X, target, test_size=.4, random_state=42)"
   ]
  },
  {
   "cell_type": "markdown",
   "metadata": {},
   "source": [
    "### Machine learning models\n",
    "\n",
    "We will use Naive Bayes to train our dataset.\n",
    "\n",
    "First we will use Multinomial Naive Bayes to classify the SMS messages.\n",
    "\n",
    "From the [scikit-learn documentation](https://scikit-learn.org/stable/modules/naive_bayes.html):\n",
    "\n",
    "> _MultinomialNB implements the naive Bayes algorithm for multinomially distributed data, and is one of the two classic naive Bayes variants used in text classification (where the data are typically represented as word vector counts, although tf-idf vectors are also known to work well in practice)._"
   ]
  },
  {
   "cell_type": "code",
   "execution_count": 12,
   "metadata": {},
   "outputs": [
    {
     "name": "stdout",
     "output_type": "stream",
     "text": [
      "Using Multinomial Naive Bayes\n",
      "\n",
      "Accuracy: 0.9803\n",
      "Precision: 0.9094\n",
      "Recall: 0.9461\n"
     ]
    }
   ],
   "source": [
    "print(\"Using Multinomial Naive Bayes\\n\")\n",
    "\n",
    "mnb = MultinomialNB()\n",
    "\n",
    "y_pred_mnb = mnb.fit(X_train, y_train).predict(X_test)\n",
    "\n",
    "accuracy_mnb = round(accuracy_score(y_test, y_pred_mnb), 4)\n",
    "precision_mnb = round(precision_score(y_test, y_pred_mnb), 4)\n",
    "recall_mnb = round(recall_score(y_test, y_pred_mnb), 4)\n",
    "\n",
    "print(\"Accuracy:\", accuracy_mnb)\n",
    "print(\"Precision:\", precision_mnb)\n",
    "print(\"Recall:\", recall_mnb)"
   ]
  },
  {
   "cell_type": "markdown",
   "metadata": {},
   "source": [
    "We can also use Bernoulli Naive Bayes, since it's a bi-class problem.\n",
    "\n",
    "From the [scikit-learn documentation](https://scikit-learn.org/stable/modules/naive_bayes.html):\n",
    "\n",
    "> _BernoulliNB implements the naive Bayes training and classification algorithms for data that is distributed according to multivariate Bernoulli distributions; i.e., there may be multiple features but each one is assumed to be a binary-valued (Bernoulli, boolean) variable._"
   ]
  },
  {
   "cell_type": "code",
   "execution_count": 13,
   "metadata": {},
   "outputs": [
    {
     "name": "stdout",
     "output_type": "stream",
     "text": [
      "Using Bernoulli Naive Bayes\n",
      "\n",
      "Accuracy: 0.978\n",
      "Precision: 0.9806\n",
      "Recall: 0.8519\n"
     ]
    }
   ],
   "source": [
    "print(\"Using Bernoulli Naive Bayes\\n\")\n",
    "\n",
    "bnb = BernoulliNB()\n",
    "\n",
    "y_pred_bnb = bnb.fit(X_train, y_train).predict(X_test)\n",
    "\n",
    "accuracy_bnb = round(accuracy_score(y_test, y_pred_bnb), 4)\n",
    "precision_bnb = round(precision_score(y_test, y_pred_bnb), 4)\n",
    "recall_bnb = round(recall_score(y_test, y_pred_bnb), 4)\n",
    "\n",
    "print(\"Accuracy:\", accuracy_bnb)\n",
    "print(\"Precision:\", precision_bnb)\n",
    "print(\"Recall:\", recall_bnb)"
   ]
  }
 ],
 "metadata": {
  "kernelspec": {
   "display_name": "Python 3",
   "language": "python",
   "name": "python3"
  },
  "language_info": {
   "codemirror_mode": {
    "name": "ipython",
    "version": 3
   },
   "file_extension": ".py",
   "mimetype": "text/x-python",
   "name": "python",
   "nbconvert_exporter": "python",
   "pygments_lexer": "ipython3",
   "version": "3.6.4"
  }
 },
 "nbformat": 4,
 "nbformat_minor": 2
}
